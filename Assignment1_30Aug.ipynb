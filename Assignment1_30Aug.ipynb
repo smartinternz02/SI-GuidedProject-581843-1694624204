{
  "cells": [
    {
      "cell_type": "markdown",
      "metadata": {
        "id": "_nmA__VAMA74"
      },
      "source": [
        "## **Pranav Singh Mahara**\n",
        "## **21BBS0188**\n",
        "\n",
        "\n",
        "---\n",
        "\n",
        "\n",
        "\n",
        "---\n",
        "\n",
        "\n",
        "# Assignment - 1\n",
        "\n",
        "30th August\n",
        "\n",
        "Link to this file is - https://colab.research.google.com/drive/1OwNz_VG42rCn1R8wVMy08X4a0_wITV7w?usp=sharing\n",
        "\n",
        "---\n",
        "---"
      ]
    },
    {
      "cell_type": "markdown",
      "metadata": {
        "id": "w9z3BT07Nkyx"
      },
      "source": [
        "Task 1 :\n",
        "\n",
        "Create a pandas dataframe (DataFrame name as 'df') with numpy random values (4 features and 4 observation)"
      ]
    },
    {
      "cell_type": "code",
      "execution_count": null,
      "metadata": {
        "colab": {
          "base_uri": "https://localhost:8080/"
        },
        "id": "kjze7sHO8QbT",
        "outputId": "9ecd5800-d4ed-45ad-da60-cb3553a9b413"
      },
      "outputs": [
        {
          "name": "stdout",
          "output_type": "stream",
          "text": [
            "The created dataframe with random values is : \n",
            "\n",
            "          0         1         2         3\n",
            "0  0.849600  0.411039  0.235267  0.791052\n",
            "1  0.939790  1.997100  0.247649  0.442976\n",
            "2  0.823364 -0.057256 -0.603505 -0.922461\n",
            "3  2.021204 -1.631057  0.190456  0.363019\n"
          ]
        }
      ],
      "source": [
        "import pandas as pd\n",
        "import numpy as np\n",
        "\n",
        "random_data = np.random.randn(4, 4)\n",
        "df = pd.DataFrame(random_data)\n",
        "print(\"The created dataframe with random values is : \\n\")\n",
        "print(df)"
      ]
    },
    {
      "cell_type": "markdown",
      "metadata": {
        "id": "rRjBTxcdNoKl"
      },
      "source": [
        "Task - 2:\n",
        "\n",
        "Rename the task - 1 'df dataframe column names to 'Random value 1', 'Random value 2', 'Random value 3' & 'Random value 4'"
      ]
    },
    {
      "cell_type": "code",
      "execution_count": null,
      "metadata": {
        "colab": {
          "base_uri": "https://localhost:8080/"
        },
        "id": "2NtVKxkJNsKI",
        "outputId": "1f2ace66-c550-4440-d598-50935fc8d3fb"
      },
      "outputs": [
        {
          "name": "stdout",
          "output_type": "stream",
          "text": [
            "The dataframe after renaming the columns is : \n",
            "\n",
            "   Random value 1  Random value 2  Random value 3  Random value 4\n",
            "0        0.849600        0.411039        0.235267        0.791052\n",
            "1        0.939790        1.997100        0.247649        0.442976\n",
            "2        0.823364       -0.057256       -0.603505       -0.922461\n",
            "3        2.021204       -1.631057        0.190456        0.363019\n"
          ]
        }
      ],
      "source": [
        "df.columns = ['Random value 1', 'Random value 2', 'Random value 3', 'Random value 4']\n",
        "print(\"The dataframe after renaming the columns is : \\n\")\n",
        "print(df)"
      ]
    },
    {
      "cell_type": "markdown",
      "metadata": {
        "id": "QS9T7TIxNsnn"
      },
      "source": [
        "Task 3\n",
        "\n",
        "Find the descriptive statistics of the 'df' dataframe."
      ]
    },
    {
      "cell_type": "code",
      "execution_count": null,
      "metadata": {
        "colab": {
          "base_uri": "https://localhost:8080/"
        },
        "id": "Po6EyLxENxbI",
        "outputId": "c39a4e30-b670-4d4e-a928-a1c988843d14"
      },
      "outputs": [
        {
          "name": "stdout",
          "output_type": "stream",
          "text": [
            "The description of the created dataframe is : \n",
            "\n",
            "       Random value 1  Random value 2  Random value 3  Random value 4\n",
            "count        4.000000        4.000000        4.000000        4.000000\n",
            "mean         1.158489        0.179957        0.017467        0.168646\n",
            "std          0.577301        1.493480        0.414709        0.750764\n",
            "min          0.823364       -1.631057       -0.603505       -0.922461\n",
            "25%          0.843041       -0.450706       -0.008034        0.041649\n",
            "50%          0.894695        0.176892        0.212862        0.402997\n",
            "75%          1.210144        0.807555        0.238362        0.529995\n",
            "max          2.021204        1.997100        0.247649        0.791052\n"
          ]
        }
      ],
      "source": [
        "stats = df.describe()\n",
        "print(\"The description of the created dataframe is : \\n\")\n",
        "print(stats)"
      ]
    },
    {
      "cell_type": "markdown",
      "metadata": {
        "id": "vDB0jnAhNx5E"
      },
      "source": [
        "Task 4\n",
        "\n",
        "Check for the null values in 'df' and find the data type of the columns."
      ]
    },
    {
      "cell_type": "code",
      "execution_count": null,
      "metadata": {
        "colab": {
          "base_uri": "https://localhost:8080/"
        },
        "id": "Ujx0goOxN0bk",
        "outputId": "97d1e762-928d-49ad-d623-b3f40043a845"
      },
      "outputs": [
        {
          "name": "stdout",
          "output_type": "stream",
          "text": [
            "Null Values :  False\n",
            "\n",
            "Data types :\n",
            "Random value 1    float64\n",
            "Random value 2    float64\n",
            "Random value 3    float64\n",
            "Random value 4    float64\n",
            "dtype: object\n"
          ]
        }
      ],
      "source": [
        "null_values = df.isnull().values.any()\n",
        "data_types = df.dtypes\n",
        "print(\"Null Values : \",null_values)\n",
        "print(\"\\nData types :\")\n",
        "print(data_types)\n"
      ]
    },
    {
      "cell_type": "markdown",
      "metadata": {
        "id": "SgZdcRnVN00w"
      },
      "source": [
        "Task - 5\n",
        "\n",
        "Display the 'Random value 2' & 'Random value 3' columns with location method and index location method."
      ]
    },
    {
      "cell_type": "code",
      "execution_count": null,
      "metadata": {
        "colab": {
          "base_uri": "https://localhost:8080/"
        },
        "id": "aJkCtk4YN7cg",
        "outputId": "f48c678a-ead6-4971-a9f6-43ac81c4e5fd"
      },
      "outputs": [
        {
          "name": "stdout",
          "output_type": "stream",
          "text": [
            "Displaying columns using loc:\n",
            "   Random value 2  Random value 3\n",
            "0        0.411039        0.235267\n",
            "1        1.997100        0.247649\n",
            "2       -0.057256       -0.603505\n",
            "3       -1.631057        0.190456\n",
            "\n",
            "Displaying column using iloc:\n",
            "   Random value 2  Random value 3\n",
            "0        0.411039        0.235267\n",
            "1        1.997100        0.247649\n",
            "2       -0.057256       -0.603505\n",
            "3       -1.631057        0.190456\n"
          ]
        }
      ],
      "source": [
        "display_loc = df.loc[:, 'Random value 2':'Random value 3']\n",
        "display_iloc = df.iloc[:, 1:3]\n",
        "\n",
        "print(\"Displaying columns using loc:\")\n",
        "print(display_loc)\n",
        "print(\"\\nDisplaying column using iloc:\")\n",
        "print(display_iloc)"
      ]
    }
  ],
  "metadata": {
    "colab": {
      "provenance": []
    },
    "kernelspec": {
      "display_name": "Python 3",
      "name": "python3"
    },
    "language_info": {
      "name": "python"
    }
  },
  "nbformat": 4,
  "nbformat_minor": 0
}
